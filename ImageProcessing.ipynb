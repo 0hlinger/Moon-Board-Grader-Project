{
 "cells": [
  {
   "cell_type": "code",
   "execution_count": 1,
   "metadata": {
    "colab": {
     "base_uri": "https://localhost:8080/"
    },
    "executionInfo": {
     "elapsed": 4136,
     "status": "ok",
     "timestamp": 1649429781897,
     "user": {
      "displayName": "Tom",
      "userId": "13996261325251675864"
     },
     "user_tz": -60
    },
    "id": "vPo59jAQrQVa",
    "outputId": "32f90d40-42f1-4fb2-8d8e-0d3d6cd9c05a"
   },
   "outputs": [
    {
     "name": "stdout",
     "output_type": "stream",
     "text": [
      "Requirement already satisfied: opencv-python in c:\\users\\tom-m\\anaconda3\\lib\\site-packages (4.5.5.64)\n",
      "Requirement already satisfied: numpy>=1.17.3; python_version >= \"3.8\" in c:\\users\\tom-m\\anaconda3\\lib\\site-packages (from opencv-python) (1.19.2)\n"
     ]
    }
   ],
   "source": [
    "!pip install opencv-python"
   ]
  },
  {
   "cell_type": "code",
   "execution_count": 1,
   "metadata": {},
   "outputs": [],
   "source": [
    "import cv2\n",
    "import os.path"
   ]
  },
  {
   "cell_type": "code",
   "execution_count": 4,
   "metadata": {
    "colab": {
     "base_uri": "https://localhost:8080/",
     "height": 1000
    },
    "executionInfo": {
     "elapsed": 2455,
     "status": "ok",
     "timestamp": 1649430057940,
     "user": {
      "displayName": "Tom",
      "userId": "13996261325251675864"
     },
     "user_tz": -60
    },
    "id": "Zt5qnxZxna9N",
    "outputId": "22c1391b-f6e3-4957-d8b0-8a82be13b1b4"
   },
   "outputs": [],
   "source": [
    "path = 'C:\\\\Users\\\\tom-m\\\\Documents\\\\Year 3\\\\Proj\\\\code\\\\Dataset\\\\Hard'\n",
    "\n",
    "grey_path = 'C:\\\\Users\\\\tom-m\\\\Documents\\\\Year 3\\\\Proj\\\\code\\\\Grey_data\\\\Hard'\n",
    "\n",
    "path_list = os.listdir(path)\n",
    "\n",
    "#Applying Grayscale filter to image\n",
    "for i in range(0, len(path_list)):\n",
    "  img = cv2.imread(('C:\\\\Users\\\\tom-m\\\\Documents\\\\Year 3\\\\Proj\\\\code\\\\Dataset\\\\Hard\\\\' + path_list[i]))\n",
    "\n",
    "  gray = cv2.cvtColor(img, cv2.COLOR_BGR2GRAY)\n",
    "  cv2.imwrite(os.path.join(grey_path, path_list[i]), gray)"
   ]
  },
  {
   "cell_type": "code",
   "execution_count": 7,
   "metadata": {},
   "outputs": [],
   "source": [
    "#https://www.codespeedy.com/remove-a-specific-color-from-an-image-in-python/\n",
    "from PIL import Image\n",
    "import numpy as np\n",
    "\n",
    "path = 'C:\\\\Users\\\\tom-m\\\\Documents\\\\Year 3\\\\Proj\\\\code\\\\Dataset\\\\Hard'\n",
    "ny_path = 'C:\\\\Users\\\\tom-m\\\\Documents\\\\Year 3\\\\Proj\\\\code\\\\NY_data\\\\Hard'\n",
    "path_list = os.listdir(path)\n",
    "    \n",
    "for i in range(0, len(path_list)):\n",
    "    \n",
    "    img = Image.open(('C:\\\\Users\\\\tom-m\\\\Documents\\\\Year 3\\\\Proj\\\\code\\\\Dataset\\\\Hard\\\\' + path_list[i]))\n",
    "    \n",
    "    image_data = img.load()\n",
    "    height,width = img.size\n",
    "\n",
    "    for loop1 in range(height):\n",
    "        for loop2 in range(width):\n",
    "            r,g,b,a = image_data[loop1,loop2]\n",
    "            if(r >= 220 and g >= 210 and b >= 90):\n",
    "                image_data[loop1,loop2] = 255,255,255,a\n",
    "\n",
    "    img.save(os.path.join(ny_path, path_list[i]))\n",
    "    img.close()"
   ]
  },
  {
   "cell_type": "code",
   "execution_count": 17,
   "metadata": {},
   "outputs": [
    {
     "name": "stderr",
     "output_type": "stream",
     "text": [
      "Copying files: 3000 files [00:31, 94.19 files/s] \n"
     ]
    }
   ],
   "source": [
    "path = 'C:\\\\Users\\\\tom-m\\\\Documents\\\\Year 3\\\\Proj\\\\code\\\\Data_resized'\n",
    "\n",
    "import splitfolders\n",
    "splitfolders.ratio(path, output=\"Resized_split\", seed=1337, ratio=(.7, .2, .1), group_prefix=None, move=False)"
   ]
  },
  {
   "cell_type": "code",
   "execution_count": 15,
   "metadata": {},
   "outputs": [],
   "source": [
    "from PIL import Image\n",
    "import os, sys\n",
    "\n",
    "path = 'C:\\\\Users\\\\tom-m\\\\Documents\\\\Year 3\\\\Proj\\\\code\\\\Dataset\\\\Easy\\\\'\n",
    "new_path = 'C:\\\\Users\\\\tom-m\\\\Documents\\\\Year 3\\\\Proj\\\\code\\\\Data_resized\\\\Easy'\n",
    "dirs = os.listdir(path)\n",
    "\n",
    "def resize(dirs,path, new_path):\n",
    "    for item in dirs:\n",
    "        if os.path.isfile(path+item):\n",
    "            im = Image.open(path+item)\n",
    "            f, e = os.path.splitext(path+item)\n",
    "            imResize = im.resize((400,600), Image.ANTIALIAS)\n",
    "            imResize.save(os.path.join(new_path, item), 'PNG', quality = 100)\n",
    "            \n",
    "resize(dirs, path ,new_path)"
   ]
  },
  {
   "cell_type": "code",
   "execution_count": 6,
   "metadata": {},
   "outputs": [],
   "source": [
    "Region of interest:\n",
    "Top-left  = 1, 300\n",
    "Top-right = 828, 300\n",
    "Bottom-left = 1, 1515\n",
    "Bottom-right = 828, 1515\n",
    "\n",
    "path_medium = 'C:\\\\Users\\\\tom-m\\\\Documents\\\\Year 3\\\\Proj\\\\code\\\\Dataset\\\\Medium'\n",
    "medium_list = os.listdir(path)\n",
    "\n",
    "def crop_images(path, path_list):\n",
    "    for pic in path_list:\n",
    "        full_path = os.path.join(path, pic)\n",
    "\n",
    "        if os.path.isfile(full_path):\n",
    "            img = Image.open(full_path)\n",
    "            img_crop = img.crop((1, 300, 828, 1515))\n",
    "            img_crop.save(full_path, \"PNG\", quality=100)\n",
    "        \n",
    "crop_images(path_easy, easy_list)\n",
    "crop_images(path_medium, medium_list)\n",
    "crop_images(path_hard, hard_list)"
   ]
  },
  {
   "cell_type": "code",
   "execution_count": null,
   "metadata": {},
   "outputs": [],
   "source": [
    "# def augment(num_type):\n",
    "#     img = load_img('IMG_1672.PNG') #Load example image\n",
    "#     img_arr = img_to_array(img) #Convert to array\n",
    "#     samples = expand_dims(img_arr, 0) #Expand dimension to one sample\n",
    "    \n",
    "#     if num_type == 1: #Random Shift\n",
    "#         shift = 0.2\n",
    "#         datagen = ImageDataGenerator(width_shift_range=shift, height_shift_range=shift) \n",
    "#     elif num_type == 3: #Random Flip\n",
    "#         datagen = ImageDataGenerator(horizontal_flip=True) \n",
    "#     elif num_type == 5: #Random Rotation\n",
    "#         datagen = ImageDataGenerator(rotation_range=90) \n",
    "#     elif num_type == 6: #Random Brightness\n",
    "#         datagen = ImageDataGenerator(brightness_range=[0.2,1.0]) \n",
    "#     elif num_type == 7: #Random Zoom\n",
    "#         datagen = ImageDataGenerator(zoom_range=[0.5,1.0])\n",
    "\n",
    "\n",
    "#     elif num_type == 8: #Feature Standardization\n",
    "#         datagen = ImageDataGenerator(featurewise_center=True, featurewise_std_normalization=True)\n",
    "#     elif num_type == 9: #ZCA Whitening\n",
    "#         datagen = ImageDataGenerator(zca_whitening=True) \n",
    "    \n",
    "#     os.makedirs('augmented_images')\n",
    "    \n",
    "#     #Iterator of image\n",
    "#     iterator = datagen.flow(samples, batch_size=1, save_to_dir='augmented_images', save_prefix='aug_', save_format='PNG')\n",
    "        \n",
    "#     for i in range(2): #Generate batch of 9 images randomly augmented\n",
    "#         plt.subplot(330 + 1 + i)\n",
    "#         batch = iterator.next()\n",
    "#         image = batch[0].astype('uint8')\n",
    "#         plt.imshow(image)\n",
    "\n",
    "#     plt.show()\n",
    "\n",
    "# augment(3)"
   ]
  }
 ],
 "metadata": {
  "colab": {
   "authorship_tag": "ABX9TyNUwl7mOeaYL7NgzWHB70Rc",
   "name": "ImageProcessing.ipynb",
   "provenance": []
  },
  "kernelspec": {
   "display_name": "Python 3",
   "language": "python",
   "name": "python3"
  },
  "language_info": {
   "codemirror_mode": {
    "name": "ipython",
    "version": 3
   },
   "file_extension": ".py",
   "mimetype": "text/x-python",
   "name": "python",
   "nbconvert_exporter": "python",
   "pygments_lexer": "ipython3",
   "version": "3.8.5"
  }
 },
 "nbformat": 4,
 "nbformat_minor": 1
}
